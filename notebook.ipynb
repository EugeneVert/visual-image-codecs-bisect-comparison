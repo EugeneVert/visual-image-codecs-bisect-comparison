{
 "cells": [
  {
   "cell_type": "code",
   "execution_count": null,
   "id": "0ad425ac-3592-4351-adba-34f37631997e",
   "metadata": {
    "tags": []
   },
   "outputs": [],
   "source": [
    "%load_ext autoreload\n",
    "%autoreload 2"
   ]
  },
  {
   "cell_type": "code",
   "execution_count": null,
   "id": "547b627d-a8ea-4a06-952a-4c0f62d2afae",
   "metadata": {
    "tags": []
   },
   "outputs": [],
   "source": [
    "from tempfile import TemporaryDirectory\n",
    "from pathlib import Path"
   ]
  },
  {
   "cell_type": "code",
   "execution_count": null,
   "id": "4a710c91-e010-43e4-b950-6de35d72595d",
   "metadata": {
    "tags": []
   },
   "outputs": [],
   "source": [
    "from main import OptimalQualitySearch"
   ]
  },
  {
   "cell_type": "code",
   "execution_count": null,
   "id": "c13afbe2-f386-465e-bccd-f917ae66154b",
   "metadata": {
    "tags": []
   },
   "outputs": [],
   "source": [
    "from config import *"
   ]
  },
  {
   "cell_type": "code",
   "execution_count": null,
   "id": "8c3087af-2951-4e70-a445-62a4b20d7549",
   "metadata": {
    "tags": []
   },
   "outputs": [],
   "source": [
    "tmpdir_output = TemporaryDirectory(prefix=\"QualitySearch_output_\")\n",
    "tmpdir_preview = TemporaryDirectory(prefix=\"QualitySearch_preview_\")\n",
    "results_dir_path = Path(\"./res\")"
   ]
  },
  {
   "cell_type": "code",
   "execution_count": null,
   "id": "8e9d1df9-32b8-4a1a-844c-f60310ab966d",
   "metadata": {
    "tags": []
   },
   "outputs": [],
   "source": [
    "selector = avif_q()\n",
    "display(selector)"
   ]
  },
  {
   "cell_type": "code",
   "execution_count": null,
   "id": "40b9d2c4-df51-4593-987a-642452af4ee3",
   "metadata": {
    "tags": []
   },
   "outputs": [],
   "source": [
    "oqs = OptimalQualitySearch(\n",
    "    selector,\n",
    "    Path(\n",
    "        \"test.jpg\"\n",
    "    ),\n",
    "    Path(tmpdir_output.name),\n",
    "    Path(tmpdir_preview.name),\n",
    "    nproc=4\n",
    ")"
   ]
  },
  {
   "cell_type": "code",
   "execution_count": null,
   "id": "cdd9f1f6-898d-4eb9-b880-b16539242b2b",
   "metadata": {
    "tags": []
   },
   "outputs": [],
   "source": [
    "pregenerated_images = oqs.process()"
   ]
  },
  {
   "cell_type": "code",
   "execution_count": null,
   "id": "e50bed64-d386-409e-8ee2-cdcbe5eab096",
   "metadata": {
    "tags": []
   },
   "outputs": [],
   "source": [
    "(q, img) = oqs.interactive_seach(pregenerated_images)"
   ]
  },
  {
   "cell_type": "code",
   "execution_count": null,
   "id": "7ee650bd-f30b-4515-a0d6-58d79a0c7c1c",
   "metadata": {
    "tags": []
   },
   "outputs": [],
   "source": [
    "oqs.save_result(q, img, results_dir_path)"
   ]
  },
  {
   "cell_type": "markdown",
   "id": "d19275d3-150f-4757-b1cd-7aa8cd861ac6",
   "metadata": {},
   "source": [
    "## Cleanup"
   ]
  },
  {
   "cell_type": "code",
   "execution_count": null,
   "id": "2bf03eaf-a933-4289-9efe-8362f9a07b3c",
   "metadata": {
    "tags": []
   },
   "outputs": [],
   "source": [
    "tmpdir_output.cleanup()\n",
    "tmpdir_preview.cleanup()"
   ]
  },
  {
   "cell_type": "code",
   "execution_count": null,
   "id": "5b661a13-a0de-4c55-9c4d-660f8097b9d8",
   "metadata": {},
   "outputs": [],
   "source": []
  }
 ],
 "metadata": {
  "kernelspec": {
   "display_name": "Python 3 (ipykernel)",
   "language": "python",
   "name": "python3"
  },
  "language_info": {
   "codemirror_mode": {
    "name": "ipython",
    "version": 3
   },
   "file_extension": ".py",
   "mimetype": "text/x-python",
   "name": "python",
   "nbconvert_exporter": "python",
   "pygments_lexer": "ipython3",
   "version": "3.10.8"
  }
 },
 "nbformat": 4,
 "nbformat_minor": 5
}
