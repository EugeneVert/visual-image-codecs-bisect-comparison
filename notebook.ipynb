{
 "cells": [
  {
   "cell_type": "code",
   "execution_count": null,
   "id": "0ad425ac-3592-4351-adba-34f37631997e",
   "metadata": {
    "tags": []
   },
   "outputs": [],
   "source": [
    "%load_ext autoreload\n",
    "%autoreload 2"
   ]
  },
  {
   "cell_type": "code",
   "execution_count": null,
   "id": "547b627d-a8ea-4a06-952a-4c0f62d2afae",
   "metadata": {
    "tags": []
   },
   "outputs": [],
   "source": [
    "import os\n",
    "import shutil\n",
    "from pathlib import Path\n",
    "from subprocess import run\n",
    "from tempfile import TemporaryDirectory"
   ]
  },
  {
   "cell_type": "code",
   "execution_count": null,
   "id": "4a710c91-e010-43e4-b950-6de35d72595d",
   "metadata": {
    "tags": []
   },
   "outputs": [],
   "source": [
    "from main import OVERWRITE_EXISTING_ENCODES, OptimalQualitySearch"
   ]
  },
  {
   "cell_type": "code",
   "execution_count": null,
   "id": "c13afbe2-f386-465e-bccd-f917ae66154b",
   "metadata": {
    "tags": []
   },
   "outputs": [],
   "source": [
    "from config import *"
   ]
  },
  {
   "cell_type": "code",
   "execution_count": null,
   "id": "8c3087af-2951-4e70-a445-62a4b20d7549",
   "metadata": {
    "tags": []
   },
   "outputs": [],
   "source": [
    "tmpdir_output = TemporaryDirectory(prefix=\"QualitySearch_output_\")\n",
    "tmpdir_preview = TemporaryDirectory(prefix=\"QualitySearch_preview_\")\n",
    "results_dir_path = Path(\"./res\")"
   ]
  },
  {
   "cell_type": "code",
   "execution_count": null,
   "id": "20279768-93e8-477c-83f5-d5b7482e1b93",
   "metadata": {
    "tags": []
   },
   "outputs": [],
   "source": [
    "input_images = list(Path(\"res/origs\").glob(\"*\"))"
   ]
  },
  {
   "cell_type": "code",
   "execution_count": null,
   "id": "8e9d1df9-32b8-4a1a-844c-f60310ab966d",
   "metadata": {
    "tags": []
   },
   "outputs": [],
   "source": [
    "selector = cavif_q()\n",
    "display(selector)\n",
    "OVERWRITE_EXISTING_ENCODES = False"
   ]
  },
  {
   "cell_type": "code",
   "execution_count": null,
   "id": "042ce062-a099-4e1f-95d9-05b0356a208a",
   "metadata": {
    "tags": []
   },
   "outputs": [],
   "source": [
    "# Open image viewer in preview dir\n",
    "shutil.copy2(\n",
    "    input_images[0], Path(tmpdir_preview.name) / f\"orig{input_images[0].suffix}\"\n",
    ")\n",
    "run(\n",
    "    [\"xdg-open\", str(Path(tmpdir_preview.name) / f\"orig{input_images[0].suffix}\")],\n",
    "    check=True,\n",
    ")"
   ]
  },
  {
   "cell_type": "code",
   "execution_count": null,
   "id": "40b9d2c4-df51-4593-987a-642452af4ee3",
   "metadata": {
    "tags": []
   },
   "outputs": [],
   "source": [
    "for input_image in input_images:\n",
    "    oqs = OptimalQualitySearch(\n",
    "        selector,\n",
    "        input_image,\n",
    "        Path(tmpdir_output.name),\n",
    "        Path(tmpdir_preview.name),\n",
    "        nproc=4,\n",
    "    )\n",
    "    pregenerated_images = oqs.process()\n",
    "    (q, img) = oqs.interactive_seach(pregenerated_images)\n",
    "    oqs.save_result(q, img, results_dir_path)\n",
    "    oqs.preview_cleanup()\n",
    "print(\"Done! =)\")"
   ]
  },
  {
   "cell_type": "markdown",
   "id": "d19275d3-150f-4757-b1cd-7aa8cd861ac6",
   "metadata": {},
   "source": [
    "## Cleanup"
   ]
  },
  {
   "cell_type": "code",
   "execution_count": null,
   "id": "2bf03eaf-a933-4289-9efe-8362f9a07b3c",
   "metadata": {
    "tags": []
   },
   "outputs": [],
   "source": [
    "tmpdir_output.cleanup()\n",
    "tmpdir_preview.cleanup()"
   ]
  },
  {
   "cell_type": "code",
   "execution_count": null,
   "id": "af0d95d3-8875-42d7-8275-b05710c37cb6",
   "metadata": {},
   "outputs": [],
   "source": []
  }
 ],
 "metadata": {
  "kernelspec": {
   "display_name": "Python 3 (ipykernel)",
   "language": "python",
   "name": "python3"
  },
  "language_info": {
   "codemirror_mode": {
    "name": "ipython",
    "version": 3
   },
   "file_extension": ".py",
   "mimetype": "text/x-python",
   "name": "python",
   "nbconvert_exporter": "python",
   "pygments_lexer": "ipython3",
   "version": "3.10.8"
  },
  "vscode": {
   "interpreter": {
    "hash": "6ad6f2452d81e8bc65b37a7155fa7a2385c24d0299ced3dcfa79162e5a86b382"
   }
  }
 },
 "nbformat": 4,
 "nbformat_minor": 5
}
