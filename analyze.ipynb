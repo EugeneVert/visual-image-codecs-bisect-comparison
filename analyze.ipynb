{
 "cells": [
  {
   "cell_type": "code",
   "execution_count": null,
   "id": "d7c1b69a-6a03-4116-b2d4-9f2c034928f3",
   "metadata": {
    "tags": []
   },
   "outputs": [],
   "source": [
    "import json\n",
    "from pathlib import Path\n",
    "\n",
    "import matplotlib.pyplot as plt\n",
    "import numpy as np"
   ]
  },
  {
   "cell_type": "code",
   "execution_count": null,
   "id": "5cc80e3b-38a6-4f5d-ac49-47e16e76b885",
   "metadata": {
    "tags": []
   },
   "outputs": [],
   "source": [
    "data_file = Path(\"./res/data.json\")\n",
    "with open(data_file, \"r\") as f:\n",
    "    data = json.load(f)"
   ]
  },
  {
   "cell_type": "code",
   "execution_count": null,
   "id": "009a0548-961c-4a10-a5cf-5da97039a20d",
   "metadata": {
    "tags": []
   },
   "outputs": [],
   "source": [
    "encode_types = list(next(i.keys() for i in data.values()))\n",
    "encode_types"
   ]
  },
  {
   "cell_type": "code",
   "execution_count": null,
   "id": "abca0c77-5b26-4170-97a2-7290cd812ba7",
   "metadata": {
    "tags": []
   },
   "outputs": [],
   "source": [
    "data_encode_size = {}\n",
    "data_encode_quality = {}\n",
    "for encode_type in encode_types:\n",
    "    data_encode_size[encode_type] = np.array(\n",
    "        [\n",
    "            v\n",
    "            for data_encodes in data.values()\n",
    "            for k, v in data_encodes[encode_type].items()\n",
    "            if k == \"size\"\n",
    "        ]\n",
    "    )\n",
    "    data_encode_quality[encode_type] = np.array(\n",
    "        [\n",
    "            v\n",
    "            for data_encodes in data.values()\n",
    "            for k, v in data_encodes[encode_type].items()\n",
    "            if k == \"quality\"\n",
    "        ]\n",
    "    )"
   ]
  },
  {
   "cell_type": "code",
   "execution_count": null,
   "id": "df5a82e2-c43c-48c3-ab3c-7b7b22310ba7",
   "metadata": {
    "tags": []
   },
   "outputs": [],
   "source": [
    "for encode_type in encode_types:\n",
    "    print(\n",
    "        encode_type,\n",
    "        len(data_encode_size[encode_type]),\n",
    "        max(data_encode_size[encode_type]),\n",
    "    )"
   ]
  },
  {
   "cell_type": "markdown",
   "id": "14ab1e1f-1571-4e53-aa82-fcf315dff459",
   "metadata": {},
   "source": [
    "## Size"
   ]
  },
  {
   "cell_type": "code",
   "execution_count": null,
   "id": "c2035dc9-fada-4cad-a660-8d29f277a335",
   "metadata": {
    "tags": []
   },
   "outputs": [],
   "source": [
    "ax = plt.axes()\n",
    "plt.title(\"Size\")\n",
    "for encode_type in encode_types:\n",
    "    ax.hist(data_encode_size[encode_type], alpha=0.5, bins=8, label=encode_type)\n",
    "ax.legend()"
   ]
  },
  {
   "cell_type": "code",
   "execution_count": null,
   "id": "f0034102-2162-4555-8b78-62ad2a0cfecf",
   "metadata": {
    "tags": []
   },
   "outputs": [],
   "source": [
    "print(encode_types)"
   ]
  },
  {
   "cell_type": "code",
   "execution_count": null,
   "id": "5078e5da-5b26-4e12-b5a5-2e159e5478b6",
   "metadata": {
    "tags": []
   },
   "outputs": [],
   "source": [
    "tolerance = 8  # KiB\n",
    "np.count_nonzero(\n",
    "    data_encode_size[encode_types[0]] + (tolerance * 1024)\n",
    "    > data_encode_size[encode_types[1]]\n",
    ")"
   ]
  },
  {
   "cell_type": "markdown",
   "id": "6d0c3d1f-744b-47b6-8c24-75d35a2a7b98",
   "metadata": {},
   "source": [
    "## Quality"
   ]
  },
  {
   "cell_type": "code",
   "execution_count": null,
   "id": "7a36dd30-0bf6-4cef-a973-a8e7e08f2c47",
   "metadata": {
    "tags": []
   },
   "outputs": [],
   "source": [
    "plt.title(\"Quality\")\n",
    "for encode_type in encode_types:\n",
    "    plt.hist(data_encode_quality[encode_type], alpha=0.5, bins=10, label=encode_type)\n",
    "    plt.legend()\n",
    "    plt.show()"
   ]
  },
  {
   "cell_type": "code",
   "execution_count": null,
   "id": "8d6fa519-3327-4f38-996a-61d91e536342",
   "metadata": {
    "tags": []
   },
   "outputs": [],
   "source": [
    "for encode_type in encode_types:\n",
    "    print(\n",
    "        encode_type,\n",
    "        np.median(data_encode_quality[encode_type]),\n",
    "    )"
   ]
  },
  {
   "cell_type": "code",
   "execution_count": null,
   "id": "b9cc5be5-3949-445c-aa76-aba19a6d4c72",
   "metadata": {},
   "outputs": [],
   "source": []
  }
 ],
 "metadata": {
  "kernelspec": {
   "display_name": "Python 3 (ipykernel)",
   "language": "python",
   "name": "python3"
  },
  "language_info": {
   "codemirror_mode": {
    "name": "ipython",
    "version": 3
   },
   "file_extension": ".py",
   "mimetype": "text/x-python",
   "name": "python",
   "nbconvert_exporter": "python",
   "pygments_lexer": "ipython3",
   "version": "3.10.8"
  }
 },
 "nbformat": 4,
 "nbformat_minor": 5
}
